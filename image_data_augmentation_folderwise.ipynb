{
 "cells": [
  {
   "cell_type": "code",
   "execution_count": 13,
   "metadata": {},
   "outputs": [],
   "source": [
    "from keras.preprocessing.image import ImageDataGenerator\n",
    "import numpy as np\n",
    "from skimage import io\n",
    "import os\n",
    "from PIL import Image\n",
    "\n",
    "\n",
    "import numpy as np\n",
    "from skimage import io\n",
    "import os\n",
    "from PIL import Image\n",
    "\n",
    "\n",
    "datagen = ImageDataGenerator(\n",
    "        rotation_range=45,     #Random rotation between 0 and 45\n",
    "        width_shift_range=0.2,   #% shift\n",
    "        height_shift_range=0.2,\n",
    "        shear_range=0.2,\n",
    "        zoom_range=0.2,\n",
    "        brightness_range=[0.2,1.0],\n",
    "        #horizontal_flip=True,\n",
    "        fill_mode='nearest')#, cval=125)    #Also try nearest, constant, reflect, wrap\n",
    "\n",
    "\n",
    "image_directory = '/Users/tamima_rashid/Desktop/Data/IRB/IRB_CNN/IRB_Fear/'\n",
    "#SIZE = 128\n",
    "dataset = []\n",
    "\n",
    "my_images = os.listdir(image_directory)\n",
    "for i, image_name in enumerate(my_images):\n",
    "    if (image_name.split('.')[1] == 'png'):\n",
    "        image = io.imread(image_directory + image_name)\n",
    "        image = Image.fromarray(image, 'RGB')\n",
    "        #image = image.resize((261,319))\n",
    "        #image = image.crop((0,0,640,325))\n",
    "        dataset.append(np.array(image))\n",
    "\n",
    "x = np.array(dataset)\n",
    "\n",
    "#Let us save images to get a feel for the augmented images.\n",
    "#Create an iterator either by using image dataset in memory (using flow() function)\n",
    "#or by using image dataset from a directory (using flow_from_directory)\n",
    "#from directory can beuseful if subdirectories are organized by class\n",
    "   \n",
    "# Generating and saving 10 augmented samples  \n",
    "# using the above defined parameters.  \n",
    "#Again, flow generates batches of randomly augmented images\n",
    "  \n",
    "i = 0\n",
    "for batch in datagen.flow(x, batch_size=125,  \n",
    "                          save_to_dir='/Users/tamima_rashid/Desktop/Data/IRB/IRB_CNN/IRB_Fear_aug/', \n",
    "                          save_prefix='augbatch1', \n",
    "                          save_format='png'):\n",
    "    i += 1\n",
    "    if i > 0:\n",
    "        break  # otherwise the generator would loop indefinitely  \n"
   ]
  },
  {
   "cell_type": "code",
   "execution_count": null,
   "metadata": {},
   "outputs": [],
   "source": []
  },
  {
   "cell_type": "code",
   "execution_count": null,
   "metadata": {},
   "outputs": [],
   "source": []
  }
 ],
 "metadata": {
  "kernelspec": {
   "display_name": "Python 3",
   "language": "python",
   "name": "python3"
  },
  "language_info": {
   "codemirror_mode": {
    "name": "ipython",
    "version": 3
   },
   "file_extension": ".py",
   "mimetype": "text/x-python",
   "name": "python",
   "nbconvert_exporter": "python",
   "pygments_lexer": "ipython3",
   "version": "3.8.5"
  }
 },
 "nbformat": 4,
 "nbformat_minor": 4
}
