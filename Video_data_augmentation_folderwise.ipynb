{
 "cells": [
  {
   "cell_type": "code",
   "execution_count": 1,
   "metadata": {},
   "outputs": [],
   "source": [
    "import os\n",
    "\n",
    "from moviepy.editor import *\n",
    "\n",
    "\n",
    "def process_video(input, output):\n",
    "    \"\"\"Parameter input should be a string with the full path for a video\"\"\"\n",
    "\n",
    "    clip = VideoFileClip(input)\n",
    "    clip1 = clip.fx(vfx.colorx, 0.6) #1.1 means 10% bright, 0.1 means 10% dark\n",
    "\n",
    "    #clip1 = clip.rotate(270)\n",
    "\n",
    "    #clip1 = clip.fx(vfx.mirror_x)\n",
    "\n",
    "    #clip3 = clip2.resize(width=1920)\n",
    "    #clip1 = clip.fx(vfx.crop, y2 = 325)\n",
    "\n",
    "    clip1.write_videofile(output, codec='rawvideo')\n",
    "\n",
    "\n",
    "def get_video_paths(folder_path):\n",
    "    \"\"\" \n",
    "    Parameter folder_path should look like \"Users/documents/folder1/\"\n",
    "    Returns a list of complete paths\n",
    "    \"\"\"\n",
    "    file_name_list = os.listdir(folder_path)\n",
    "\n",
    "    path_name_list = []\n",
    "    final_name_list = []\n",
    "    for name in file_name_list:\n",
    "        # Put any sanity checks here, e.g.:\n",
    "        if name == \".DS_Store\":\n",
    "            pass\n",
    "        else:\n",
    "            path_name_list.append(folder_path + name)\n",
    "            final_name_list.append(folder_path + \"40%dark\" + name )\n",
    "    return path_name_list, final_name_list"
   ]
  },
  {
   "cell_type": "code",
   "execution_count": 2,
   "metadata": {},
   "outputs": [
    {
     "name": "stderr",
     "output_type": "stream",
     "text": [
      "t:  69%|██████▉   | 20/29 [00:00<00:00, 197.54it/s, now=None]"
     ]
    },
    {
     "name": "stdout",
     "output_type": "stream",
     "text": [
      "Moviepy - Building video /Users/tamima_rashid/Desktop/Data/IRB/IRB_New/p19_cropped/40%darkp19_cropped_sad.avi.\n",
      "MoviePy - Writing audio in 40%darkp19_cropped_sadTEMP_MPY_wvf_snd.mp3\n",
      "MoviePy - Done.\n",
      "Moviepy - Writing video /Users/tamima_rashid/Desktop/Data/IRB/IRB_New/p19_cropped/40%darkp19_cropped_sad.avi\n",
      "\n"
     ]
    },
    {
     "name": "stderr",
     "output_type": "stream",
     "text": [
      "t:   0%|          | 0/53 [00:00<?, ?it/s, now=None]          "
     ]
    },
    {
     "name": "stdout",
     "output_type": "stream",
     "text": [
      "Moviepy - Done !\n",
      "Moviepy - video ready /Users/tamima_rashid/Desktop/Data/IRB/IRB_New/p19_cropped/40%darkp19_cropped_sad.avi\n",
      "Moviepy - Building video /Users/tamima_rashid/Desktop/Data/IRB/IRB_New/p19_cropped/40%darkp19_cropped_happy.avi.\n",
      "MoviePy - Writing audio in 40%darkp19_cropped_happyTEMP_MPY_wvf_snd.mp3\n",
      "MoviePy - Done.\n",
      "Moviepy - Writing video /Users/tamima_rashid/Desktop/Data/IRB/IRB_New/p19_cropped/40%darkp19_cropped_happy.avi\n",
      "\n"
     ]
    },
    {
     "name": "stderr",
     "output_type": "stream",
     "text": [
      "t:   0%|          | 0/29 [00:00<?, ?it/s, now=None]          "
     ]
    },
    {
     "name": "stdout",
     "output_type": "stream",
     "text": [
      "Moviepy - Done !\n",
      "Moviepy - video ready /Users/tamima_rashid/Desktop/Data/IRB/IRB_New/p19_cropped/40%darkp19_cropped_happy.avi\n",
      "Moviepy - Building video /Users/tamima_rashid/Desktop/Data/IRB/IRB_New/p19_cropped/40%darkp19_cropped_surprise.avi.\n",
      "MoviePy - Writing audio in 40%darkp19_cropped_surpriseTEMP_MPY_wvf_snd.mp3\n",
      "MoviePy - Done.\n",
      "Moviepy - Writing video /Users/tamima_rashid/Desktop/Data/IRB/IRB_New/p19_cropped/40%darkp19_cropped_surprise.avi\n",
      "\n"
     ]
    },
    {
     "name": "stderr",
     "output_type": "stream",
     "text": [
      "t:   0%|          | 0/29 [00:00<?, ?it/s, now=None]          "
     ]
    },
    {
     "name": "stdout",
     "output_type": "stream",
     "text": [
      "Moviepy - Done !\n",
      "Moviepy - video ready /Users/tamima_rashid/Desktop/Data/IRB/IRB_New/p19_cropped/40%darkp19_cropped_surprise.avi\n",
      "Moviepy - Building video /Users/tamima_rashid/Desktop/Data/IRB/IRB_New/p19_cropped/40%darkp19_cropped_disgust.avi.\n",
      "MoviePy - Writing audio in 40%darkp19_cropped_disgustTEMP_MPY_wvf_snd.mp3\n",
      "MoviePy - Done.\n",
      "Moviepy - Writing video /Users/tamima_rashid/Desktop/Data/IRB/IRB_New/p19_cropped/40%darkp19_cropped_disgust.avi\n",
      "\n"
     ]
    },
    {
     "name": "stderr",
     "output_type": "stream",
     "text": [
      "t:   0%|          | 0/29 [00:00<?, ?it/s, now=None]          "
     ]
    },
    {
     "name": "stdout",
     "output_type": "stream",
     "text": [
      "Moviepy - Done !\n",
      "Moviepy - video ready /Users/tamima_rashid/Desktop/Data/IRB/IRB_New/p19_cropped/40%darkp19_cropped_disgust.avi\n",
      "Moviepy - Building video /Users/tamima_rashid/Desktop/Data/IRB/IRB_New/p19_cropped/40%darkp19_cropped_anger.avi.\n",
      "MoviePy - Writing audio in 40%darkp19_cropped_angerTEMP_MPY_wvf_snd.mp3\n",
      "MoviePy - Done.\n",
      "Moviepy - Writing video /Users/tamima_rashid/Desktop/Data/IRB/IRB_New/p19_cropped/40%darkp19_cropped_anger.avi\n",
      "\n"
     ]
    },
    {
     "name": "stderr",
     "output_type": "stream",
     "text": [
      "t:   0%|          | 0/29 [00:00<?, ?it/s, now=None]          "
     ]
    },
    {
     "name": "stdout",
     "output_type": "stream",
     "text": [
      "Moviepy - Done !\n",
      "Moviepy - video ready /Users/tamima_rashid/Desktop/Data/IRB/IRB_New/p19_cropped/40%darkp19_cropped_anger.avi\n",
      "Moviepy - Building video /Users/tamima_rashid/Desktop/Data/IRB/IRB_New/p19_cropped/40%darkp19_cropped_fear.avi.\n",
      "MoviePy - Writing audio in 40%darkp19_cropped_fearTEMP_MPY_wvf_snd.mp3\n",
      "MoviePy - Done.\n",
      "Moviepy - Writing video /Users/tamima_rashid/Desktop/Data/IRB/IRB_New/p19_cropped/40%darkp19_cropped_fear.avi\n",
      "\n"
     ]
    },
    {
     "name": "stderr",
     "output_type": "stream",
     "text": [
      "                                                             "
     ]
    },
    {
     "name": "stdout",
     "output_type": "stream",
     "text": [
      "Moviepy - Done !\n",
      "Moviepy - video ready /Users/tamima_rashid/Desktop/Data/IRB/IRB_New/p19_cropped/40%darkp19_cropped_fear.avi\n",
      "Finished\n"
     ]
    },
    {
     "name": "stderr",
     "output_type": "stream",
     "text": [
      "\r"
     ]
    }
   ],
   "source": [
    "if __name__ == \"__main__\":\n",
    "    video_folder = \"/Users/tamima_rashid/Desktop/Data/IRB/IRB_New/p19_cropped/\"\n",
    "    path_list, final_name_list = get_video_paths(video_folder)\n",
    "    for path, name in zip(path_list, final_name_list):\n",
    "        process_video(path, name)\n",
    "    print(\"Finished\")"
   ]
  },
  {
   "cell_type": "code",
   "execution_count": null,
   "metadata": {},
   "outputs": [],
   "source": []
  }
 ],
 "metadata": {
  "kernelspec": {
   "display_name": "Python 3",
   "language": "python",
   "name": "python3"
  },
  "language_info": {
   "codemirror_mode": {
    "name": "ipython",
    "version": 3
   },
   "file_extension": ".py",
   "mimetype": "text/x-python",
   "name": "python",
   "nbconvert_exporter": "python",
   "pygments_lexer": "ipython3",
   "version": "3.8.5"
  }
 },
 "nbformat": 4,
 "nbformat_minor": 4
}
